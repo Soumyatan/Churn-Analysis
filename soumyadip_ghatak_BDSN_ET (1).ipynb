{
  "nbformat": 4,
  "nbformat_minor": 0,
  "metadata": {
    "colab": {
      "name": "soumyadip_ghatak_BDSN_ET.ipynb",
      "provenance": []
    },
    "kernelspec": {
      "name": "python3",
      "display_name": "Python 3"
    },
    "language_info": {
      "name": "python"
    }
  },
  "cells": [
    {
      "cell_type": "markdown",
      "source": [
        "For this project, we have to classify customers who have churned. Not only we will classify these customers but we will build a model that would make predictions.\n",
        "\n",
        "\n",
        "The approach taken to this problem was to firstly define what churn is. This was defined by using the event of 'Cancellation Confirmation'. If the user cancelled their service, they were defined as churn.\n",
        "\n",
        "After defining churn, some features were extracted such as gender and level. These features were used and a model was trained and it was used to make predictions. "
      ],
      "metadata": {
        "id": "lxJ8sVe0H5R9"
      }
    },
    {
      "cell_type": "markdown",
      "source": [
        "# INSTALLING SPARK"
      ],
      "metadata": {
        "id": "IFS0h4iO51g-"
      }
    },
    {
      "cell_type": "code",
      "execution_count": null,
      "metadata": {
        "colab": {
          "base_uri": "https://localhost:8080/"
        },
        "id": "YLpfdghK4nAp",
        "outputId": "db85165b-07ae-4e94-cdfb-04ba3092ad85"
      },
      "outputs": [
        {
          "output_type": "stream",
          "name": "stdout",
          "text": [
            "\n",
            "WARNING: apt does not have a stable CLI interface. Use with caution in scripts.\n",
            "\n",
            "\n",
            "WARNING: apt does not have a stable CLI interface. Use with caution in scripts.\n",
            "\n"
          ]
        }
      ],
      "source": [
        "!apt update > /dev/null\n",
        "!apt install openjdk-8-jdk-headless -qq > /dev/null"
      ]
    },
    {
      "cell_type": "code",
      "source": [
        "!wget -q http://apache.osuosl.org/spark/spark-3.1.2/spark-3.1.2-bin-hadoop3.2.tgz"
      ],
      "metadata": {
        "id": "fwHCyNxi6Mvs"
      },
      "execution_count": null,
      "outputs": []
    },
    {
      "cell_type": "code",
      "source": [
        "!tar xf spark-3.1.2-bin-hadoop3.2.tgz\n",
        "!pip install -q pyspark"
      ],
      "metadata": {
        "colab": {
          "base_uri": "https://localhost:8080/"
        },
        "id": "w64-bdxb6PFi",
        "outputId": "3306cf5d-cbb0-4c82-cd79-5cd84df8fb54"
      },
      "execution_count": null,
      "outputs": [
        {
          "output_type": "stream",
          "name": "stdout",
          "text": [
            "\u001b[K     |████████████████████████████████| 281.4 MB 33 kB/s \n",
            "\u001b[K     |████████████████████████████████| 198 kB 53.1 MB/s \n",
            "\u001b[?25h  Building wheel for pyspark (setup.py) ... \u001b[?25l\u001b[?25hdone\n"
          ]
        }
      ]
    },
    {
      "cell_type": "markdown",
      "source": [
        "creating the working enviroment"
      ],
      "metadata": {
        "id": "ZyLUu2yP6Tq_"
      }
    },
    {
      "cell_type": "code",
      "source": [
        "import os\n",
        "os.environ[\"JAVA_HOME\"] = \"/usr/lib/jvm/java-8-openjdk-amd64\"\n",
        "#os.environ[\"SPARK_HOME\"] = \"/content/spark-2.4.0-bin-hadoop2.7\"\n",
        "#os.environ[\"SPARK_HOME\"] = \"/content/spark-2.4.4-bin-hadoop2.7\"\n",
        "#os.environ[\"SPARK_HOME\"] = \"/content/spark-2.4.5-bin-hadoop2.7\"\n",
        "#os.environ[\"SPARK_HOME\"] = \"/content/spark-3.0.1-bin-hadoop3.2\"\n",
        "os.environ[\"SPARK_HOME\"] = \"/content/spark-3.1.2-bin-hadoop3.2\""
      ],
      "metadata": {
        "id": "CCGt_LmJ6XZ_"
      },
      "execution_count": null,
      "outputs": []
    },
    {
      "cell_type": "code",
      "source": [
        "# creating a Spark session\n",
        "spark = SparkSession.builder \\\n",
        "    .master(\"local\") \\\n",
        "    .appName(\"Churn Prediction\") \\\n",
        "    .getOrCreate()"
      ],
      "metadata": {
        "id": "FS16gBf07Naj"
      },
      "execution_count": null,
      "outputs": []
    },
    {
      "cell_type": "code",
      "source": [
        "# import libraries\n",
        "from pyspark.sql import SparkSession\n",
        "from pyspark.sql.functions import avg, col, concat, count, desc, explode, lit, udf, split, to_date, from_unixtime\n",
        "from pyspark.sql.types import IntegerType, StringType\n",
        "from pyspark.sql.functions import unix_timestamp\n",
        "from pyspark.sql import functions as f\n",
        "from pyspark.sql import types as t\n",
        "from pyspark.ml.classification import LogisticRegression\n",
        "from pyspark.ml.feature import VectorAssembler\n",
        "from pyspark.ml.tuning import CrossValidator, ParamGridBuilder, TrainValidationSplit\n",
        "from pyspark.ml.classification import DecisionTreeClassifier, RandomForestClassifier\n",
        "from pyspark.mllib.util import MLUtils\n",
        "from pyspark.ml import Pipeline\n",
        "from pyspark.ml.feature import Normalizer\n",
        "from pyspark.mllib.evaluation import MulticlassMetrics\n",
        "from pyspark.ml.evaluation import RegressionEvaluator\n",
        "from sklearn.metrics import accuracy_score\n",
        "from sklearn.metrics import f1_score\n",
        "import matplotlib.pyplot as plt\n",
        "% matplotlib inline"
      ],
      "metadata": {
        "id": "Ydz3rEFV6808"
      },
      "execution_count": null,
      "outputs": []
    },
    {
      "cell_type": "markdown",
      "source": [
        "Loading the data"
      ],
      "metadata": {
        "id": "NN8DPOHi7Fwe"
      }
    },
    {
      "cell_type": "code",
      "source": [
        "sparkify_data = '/content/mini_sparkify_event_data.json'"
      ],
      "metadata": {
        "id": "DViVmgcc7IuG"
      },
      "execution_count": null,
      "outputs": []
    },
    {
      "cell_type": "code",
      "source": [
        "df = spark.read.json(sparkify_data)\n",
        "df.persist()"
      ],
      "metadata": {
        "colab": {
          "base_uri": "https://localhost:8080/"
        },
        "id": "EZZCxsg37fHN",
        "outputId": "20d02b74-4fa8-48e6-9e2a-5d30f6c42aba"
      },
      "execution_count": null,
      "outputs": [
        {
          "output_type": "execute_result",
          "data": {
            "text/plain": [
              "DataFrame[artist: string, auth: string, firstName: string, gender: string, itemInSession: bigint, lastName: string, length: double, level: string, location: string, method: string, page: string, registration: bigint, sessionId: bigint, song: string, status: bigint, ts: bigint, userAgent: string, userId: string]"
            ]
          },
          "metadata": {},
          "execution_count": 59
        }
      ]
    },
    {
      "cell_type": "code",
      "source": [
        "df.show(5)"
      ],
      "metadata": {
        "colab": {
          "base_uri": "https://localhost:8080/"
        },
        "id": "cIfcGD2H7nW3",
        "outputId": "f277d890-770b-421a-c9ac-c97a5e7772ed"
      },
      "execution_count": null,
      "outputs": [
        {
          "output_type": "stream",
          "name": "stdout",
          "text": [
            "+----------------+---------+---------+------+-------------+--------+---------+-----+--------------------+------+--------+-------------+---------+--------------------+------+-------------+--------------------+------+\n",
            "|          artist|     auth|firstName|gender|itemInSession|lastName|   length|level|            location|method|    page| registration|sessionId|                song|status|           ts|           userAgent|userId|\n",
            "+----------------+---------+---------+------+-------------+--------+---------+-----+--------------------+------+--------+-------------+---------+--------------------+------+-------------+--------------------+------+\n",
            "|  Martha Tilston|Logged In|    Colin|     M|           50| Freeman|277.89016| paid|     Bakersfield, CA|   PUT|NextSong|1538173362000|       29|           Rockpools|   200|1538352117000|Mozilla/5.0 (Wind...|    30|\n",
            "|Five Iron Frenzy|Logged In|    Micah|     M|           79|    Long|236.09424| free|Boston-Cambridge-...|   PUT|NextSong|1538331630000|        8|              Canada|   200|1538352180000|\"Mozilla/5.0 (Win...|     9|\n",
            "|    Adam Lambert|Logged In|    Colin|     M|           51| Freeman| 282.8273| paid|     Bakersfield, CA|   PUT|NextSong|1538173362000|       29|   Time For Miracles|   200|1538352394000|Mozilla/5.0 (Wind...|    30|\n",
            "|          Enigma|Logged In|    Micah|     M|           80|    Long|262.71302| free|Boston-Cambridge-...|   PUT|NextSong|1538331630000|        8|Knocking On Forbi...|   200|1538352416000|\"Mozilla/5.0 (Win...|     9|\n",
            "|       Daft Punk|Logged In|    Colin|     M|           52| Freeman|223.60771| paid|     Bakersfield, CA|   PUT|NextSong|1538173362000|       29|Harder Better Fas...|   200|1538352676000|Mozilla/5.0 (Wind...|    30|\n",
            "+----------------+---------+---------+------+-------------+--------+---------+-----+--------------------+------+--------+-------------+---------+--------------------+------+-------------+--------------------+------+\n",
            "only showing top 5 rows\n",
            "\n"
          ]
        }
      ]
    },
    {
      "cell_type": "markdown",
      "source": [
        "Lets check the variables in our data"
      ],
      "metadata": {
        "id": "U-1TserX7upz"
      }
    },
    {
      "cell_type": "code",
      "source": [
        "df.printSchema()"
      ],
      "metadata": {
        "colab": {
          "base_uri": "https://localhost:8080/"
        },
        "id": "FDcTlwrn7rpY",
        "outputId": "a0738f72-7d44-4ba4-c986-c1bf45426284"
      },
      "execution_count": null,
      "outputs": [
        {
          "output_type": "stream",
          "name": "stdout",
          "text": [
            "root\n",
            " |-- artist: string (nullable = true)\n",
            " |-- auth: string (nullable = true)\n",
            " |-- firstName: string (nullable = true)\n",
            " |-- gender: string (nullable = true)\n",
            " |-- itemInSession: long (nullable = true)\n",
            " |-- lastName: string (nullable = true)\n",
            " |-- length: double (nullable = true)\n",
            " |-- level: string (nullable = true)\n",
            " |-- location: string (nullable = true)\n",
            " |-- method: string (nullable = true)\n",
            " |-- page: string (nullable = true)\n",
            " |-- registration: long (nullable = true)\n",
            " |-- sessionId: long (nullable = true)\n",
            " |-- song: string (nullable = true)\n",
            " |-- status: long (nullable = true)\n",
            " |-- ts: long (nullable = true)\n",
            " |-- userAgent: string (nullable = true)\n",
            " |-- userId: string (nullable = true)\n",
            "\n"
          ]
        }
      ]
    },
    {
      "cell_type": "markdown",
      "source": [
        "Let's check the missing values in our data"
      ],
      "metadata": {
        "id": "fIbJ3JkT8eD3"
      }
    },
    {
      "cell_type": "code",
      "source": [
        "len(df.select(['userId','sessionId','artist','song']).where(df.userId == '').collect())"
      ],
      "metadata": {
        "colab": {
          "base_uri": "https://localhost:8080/"
        },
        "id": "F9cDB3r-70_E",
        "outputId": "bbd61afb-f637-4dae-cd04-2be7550fde7d"
      },
      "execution_count": null,
      "outputs": [
        {
          "output_type": "execute_result",
          "data": {
            "text/plain": [
              "1101"
            ]
          },
          "metadata": {},
          "execution_count": 62
        }
      ]
    },
    {
      "cell_type": "code",
      "source": [
        "len(df.select(['userId','sessionId','artist','song']).where(df.sessionId.isNull()).collect())"
      ],
      "metadata": {
        "colab": {
          "base_uri": "https://localhost:8080/"
        },
        "id": "fiL2gnoN8P8p",
        "outputId": "22193bc4-0990-42aa-95fe-91a120245234"
      },
      "execution_count": null,
      "outputs": [
        {
          "output_type": "execute_result",
          "data": {
            "text/plain": [
              "0"
            ]
          },
          "metadata": {},
          "execution_count": 63
        }
      ]
    },
    {
      "cell_type": "code",
      "source": [
        "df = df.where(df.userId != '')"
      ],
      "metadata": {
        "id": "dCsC6jXc8RST"
      },
      "execution_count": null,
      "outputs": []
    },
    {
      "cell_type": "code",
      "source": [
        "df.count()"
      ],
      "metadata": {
        "colab": {
          "base_uri": "https://localhost:8080/"
        },
        "id": "wLI2e8-78TmJ",
        "outputId": "8b34866d-e70f-42c7-d53c-342c10496ba8"
      },
      "execution_count": null,
      "outputs": [
        {
          "output_type": "execute_result",
          "data": {
            "text/plain": [
              "34497"
            ]
          },
          "metadata": {},
          "execution_count": 65
        }
      ]
    },
    {
      "cell_type": "code",
      "source": [
        "df.select(['userId', 'sessionId', 'artist']).where(df.gender == '').collect()"
      ],
      "metadata": {
        "colab": {
          "base_uri": "https://localhost:8080/"
        },
        "id": "-48aHQOE8V68",
        "outputId": "a2441572-4f19-473c-8592-235fbe908259"
      },
      "execution_count": null,
      "outputs": [
        {
          "output_type": "execute_result",
          "data": {
            "text/plain": [
              "[]"
            ]
          },
          "metadata": {},
          "execution_count": 66
        }
      ]
    },
    {
      "cell_type": "code",
      "source": [
        "df.select(['userId', 'sessionId', 'artist']).where(df.gender.isNull()).collect()"
      ],
      "metadata": {
        "colab": {
          "base_uri": "https://localhost:8080/"
        },
        "id": "N4IpJR268Vy1",
        "outputId": "fe506da2-f6df-422d-9f92-df26ce9e9243"
      },
      "execution_count": null,
      "outputs": [
        {
          "output_type": "execute_result",
          "data": {
            "text/plain": [
              "[]"
            ]
          },
          "metadata": {},
          "execution_count": 67
        }
      ]
    },
    {
      "cell_type": "code",
      "source": [
        "df.select(['userId', 'sessionId', 'artist']).where(df.page == '').collect()"
      ],
      "metadata": {
        "colab": {
          "base_uri": "https://localhost:8080/"
        },
        "id": "F458RcFu8Vjx",
        "outputId": "d16d9c21-4a48-455c-e3f8-586266569039"
      },
      "execution_count": null,
      "outputs": [
        {
          "output_type": "execute_result",
          "data": {
            "text/plain": [
              "[]"
            ]
          },
          "metadata": {},
          "execution_count": 68
        }
      ]
    },
    {
      "cell_type": "markdown",
      "source": [
        "As we can see, there were 1101 missing userId records in this dataset. For this, we removed the rows where these were missing."
      ],
      "metadata": {
        "id": "dxpGqA-i8wZp"
      }
    },
    {
      "cell_type": "code",
      "source": [
        "df.select('ts').show(2)"
      ],
      "metadata": {
        "colab": {
          "base_uri": "https://localhost:8080/"
        },
        "id": "hmBDXQPu8xA7",
        "outputId": "5df9b407-4b38-411f-d260-773a30832930"
      },
      "execution_count": null,
      "outputs": [
        {
          "output_type": "stream",
          "name": "stdout",
          "text": [
            "+-------------+\n",
            "|           ts|\n",
            "+-------------+\n",
            "|1538352117000|\n",
            "|1538352180000|\n",
            "+-------------+\n",
            "only showing top 2 rows\n",
            "\n"
          ]
        }
      ]
    },
    {
      "cell_type": "markdown",
      "source": [
        "time stamp to our date time coloumn"
      ],
      "metadata": {
        "id": "pcUDtMGu878K"
      }
    },
    {
      "cell_type": "code",
      "source": [
        "df = df.withColumn('datetime', f.date_format(df.ts.cast(dataType=t.TimestampType()), \"yyyy-MM-dd HH:mm:ss.SSS z\"))"
      ],
      "metadata": {
        "id": "hcymmrZd85yN"
      },
      "execution_count": null,
      "outputs": []
    },
    {
      "cell_type": "code",
      "source": [
        "df.filter(df.sessionId == '141').select(['artist','length','sessionId','datetime','firstname','itemInSession','song','userId']).show()"
      ],
      "metadata": {
        "colab": {
          "base_uri": "https://localhost:8080/"
        },
        "id": "4Nz9gaFD9ApR",
        "outputId": "cd5dbef9-3986-414e-e070-2d7639ee574d"
      },
      "execution_count": null,
      "outputs": [
        {
          "output_type": "stream",
          "name": "stdout",
          "text": [
            "+--------------------+---------+---------+--------------------+---------+-------------+--------------------+------+\n",
            "|              artist|   length|sessionId|            datetime|firstname|itemInSession|                song|userId|\n",
            "+--------------------+---------+---------+--------------------+---------+-------------+--------------------+------+\n",
            "|                null|     null|      141|+50719-01-27 21:1...|    Grant|            0|                null|   142|\n",
            "|           The Kooks|169.45587|      141|+50719-01-28 03:0...|    Grant|            1|         Love It All|   142|\n",
            "|          Plasmatics| 256.7571|      141|+50719-01-30 01:5...|    Grant|            2|          The Damned|   142|\n",
            "|     Alliance Ethnik|195.94404|      141|+50719-02-02 01:0...|    Grant|            3|SinceritÃÂ© Et J...|   142|\n",
            "|     Tears For Fears|361.29914|      141|+50719-02-04 07:1...|    Grant|            4|              Change|   142|\n",
            "|                  B5|189.36118|      141|+50719-02-08 11:3...|    Grant|            5|          Heartbreak|   142|\n",
            "|                null|     null|      141|+50719-02-08 18:1...|    Grant|            6|                null|   142|\n",
            "|               Plies|278.22975|      141|+50719-02-10 16:0...|    Grant|            7|Somebody (Loves Y...|   142|\n",
            "|            Yeasayer|298.91873|      141|+50719-02-13 21:1...|    Grant|            8|            Red Cave|   142|\n",
            "|                null|     null|      141|+50719-02-14 06:0...|    Grant|            9|                null|   142|\n",
            "|                null|     null|      141|+50719-02-15 08:4...|    Grant|           10|                null|   142|\n",
            "|                null|     null|      141|+50719-02-15 09:0...|    Grant|           11|                null|   142|\n",
            "|                null|     null|      141|+50719-02-17 18:0...|    Grant|           12|                null|   142|\n",
            "|          Nickelback|262.81751|      141|+50719-02-18 09:3...|    Grant|           13|I'd Come For You ...|   142|\n",
            "|     Venetian Snares| 71.70567|      141|+50719-02-21 10:2...|    Grant|           14|            Fuck Off|   142|\n",
            "|     The Red Crayola|153.80853|      141|+50719-02-22 06:0...|    Grant|           15|Transparent Radia...|   142|\n",
            "|Tune Up! vs. Ital...|319.73832|      141|+50719-02-24 00:3...|    Grant|           16|Colours Of The Ra...|   142|\n",
            "|                Enya|104.56771|      141|+50719-02-27 17:1...|    Grant|           17|   Deireadh An Tuath|   142|\n",
            "|         Binary Star| 54.22975|      141|+50719-02-28 22:0...|    Grant|           18|     The KGB (Intro)|   142|\n",
            "|             Erasure|246.46485|      141|+50719-03-01 13:0...|    Grant|           19|Fingers And Thumb...|   142|\n",
            "+--------------------+---------+---------+--------------------+---------+-------------+--------------------+------+\n",
            "only showing top 20 rows\n",
            "\n"
          ]
        }
      ]
    },
    {
      "cell_type": "markdown",
      "source": [
        "This dataframe has null values, we will fill it with zero.\n"
      ],
      "metadata": {
        "id": "Ig63zHXS9Kfd"
      }
    },
    {
      "cell_type": "code",
      "source": [
        "df = df.fillna({'length':0})"
      ],
      "metadata": {
        "id": "_vLutG1h9Tt9"
      },
      "execution_count": null,
      "outputs": []
    },
    {
      "cell_type": "markdown",
      "source": [
        "# Exploratory Data Analysis"
      ],
      "metadata": {
        "id": "LCKtn3RX9XLU"
      }
    },
    {
      "cell_type": "markdown",
      "source": [
        "we will perform EDA by loading a small subset of the data and doing basic manipulations within Spark."
      ],
      "metadata": {
        "id": "DnZzG4rNAnjg"
      }
    },
    {
      "cell_type": "markdown",
      "source": [
        "Once we've done some preliminary analysis, we create a column Churn to use as the label for your model."
      ],
      "metadata": {
        "id": "ttAnn_n3AqI8"
      }
    },
    {
      "cell_type": "markdown",
      "source": [
        "Once we've defined churn, we perform some exploratory data analysis to observe the behavior for users who stayed vs users who churned. We start by exploring aggregates on these two groups of users, observing how much of a specific action they experienced per a certain time unit or number of songs played."
      ],
      "metadata": {
        "id": "wyKnn1bjAxsL"
      }
    },
    {
      "cell_type": "markdown",
      "source": [
        "dropping duplicates"
      ],
      "metadata": {
        "id": "4b9H9pU69YuW"
      }
    },
    {
      "cell_type": "code",
      "source": [
        "df.select('page').dropDuplicates().sort(\"page\").show()"
      ],
      "metadata": {
        "colab": {
          "base_uri": "https://localhost:8080/"
        },
        "id": "fqSIBbAh9kWm",
        "outputId": "cfe54a08-27bb-40b9-ceb0-c88ec83e0a0e"
      },
      "execution_count": null,
      "outputs": [
        {
          "output_type": "stream",
          "name": "stdout",
          "text": [
            "+--------------------+\n",
            "|                page|\n",
            "+--------------------+\n",
            "|               About|\n",
            "|          Add Friend|\n",
            "|     Add to Playlist|\n",
            "|              Cancel|\n",
            "|Cancellation Conf...|\n",
            "|           Downgrade|\n",
            "|               Error|\n",
            "|                Help|\n",
            "|                Home|\n",
            "|              Logout|\n",
            "|            NextSong|\n",
            "|         Roll Advert|\n",
            "|       Save Settings|\n",
            "|            Settings|\n",
            "|    Submit Downgrade|\n",
            "|      Submit Upgrade|\n",
            "|         Thumbs Down|\n",
            "|           Thumbs Up|\n",
            "|             Upgrade|\n",
            "+--------------------+\n",
            "\n"
          ]
        }
      ]
    },
    {
      "cell_type": "markdown",
      "source": [
        "Explorig how many users are actually on the system, and how many have went on the page 'Cancellation Confirmation'"
      ],
      "metadata": {
        "id": "a4osj5YA9rvI"
      }
    },
    {
      "cell_type": "code",
      "source": [
        "\n",
        "\n",
        "# groupby user and also by cancellation confirmation\n",
        "print(\"Cancel Confirmation Total Count: \", df.filter(df['page'] == 'Cancellation Confirmation').count())\n",
        "\n",
        "# how many users are on the system?\n",
        "print(\"Users on the system: \", len(df.select('userId').dropDuplicates().collect()))\n",
        "\n",
        "\n",
        "print(\"Cancel confirmation users: \", len(df.select('userId').filter(df['page'] == 'Cancellation Confirmation').collect()))"
      ],
      "metadata": {
        "colab": {
          "base_uri": "https://localhost:8080/"
        },
        "id": "yFW7K3CH9mqQ",
        "outputId": "f72da078-5760-4338-8174-472254183fd5"
      },
      "execution_count": null,
      "outputs": [
        {
          "output_type": "stream",
          "name": "stdout",
          "text": [
            "Cancel Confirmation Total Count:  2\n",
            "Users on the system:  126\n",
            "Cancel confirmation users:  2\n"
          ]
        }
      ]
    },
    {
      "cell_type": "markdown",
      "source": [
        "Above, we can confirm that 2 users have cancelled the service. We can also confirm that 126 users are using the service. These are all unique users on the system. "
      ],
      "metadata": {
        "id": "j7w69fg3935K"
      }
    },
    {
      "cell_type": "markdown",
      "source": [
        "creating a column called Churn and 1 being if the user ever had a Cancellation Confirmation and 0 if not"
      ],
      "metadata": {
        "id": "3y2-NoJc-DKp"
      }
    },
    {
      "cell_type": "code",
      "source": [
        "\n",
        "flag_churn = udf(lambda x: 1 if x == \"Cancellation Confirmation\" else 0, IntegerType())\n",
        "\n",
        "df = df.withColumn(\"churned\", flag_churn(\"page\"))"
      ],
      "metadata": {
        "id": "zp9Wvk3Q987Q"
      },
      "execution_count": null,
      "outputs": []
    },
    {
      "cell_type": "code",
      "source": [
        "df.select(['userId', 'churned']).where(df.churned == 1).count()"
      ],
      "metadata": {
        "colab": {
          "base_uri": "https://localhost:8080/"
        },
        "id": "m05Lrbyb-Ic2",
        "outputId": "c9575c37-d067-40bb-f5a6-9932c3f9c357"
      },
      "execution_count": null,
      "outputs": [
        {
          "output_type": "execute_result",
          "data": {
            "text/plain": [
              "2"
            ]
          },
          "metadata": {},
          "execution_count": 77
        }
      ]
    },
    {
      "cell_type": "markdown",
      "source": [
        "collecting all user Id's that are churned"
      ],
      "metadata": {
        "id": "cQerDkSg-OmM"
      }
    },
    {
      "cell_type": "code",
      "source": [
        "\n",
        "userIds = []\n",
        "for userId in df.filter(df.churned == 1).select('userId').collect():\n",
        "    userIds.append(userId[0])"
      ],
      "metadata": {
        "id": "VtT2-3Cu-KU1"
      },
      "execution_count": null,
      "outputs": []
    },
    {
      "cell_type": "code",
      "source": [
        "flag_churn_2 = udf(lambda x: 1 if x in (userIds) else 0, IntegerType())"
      ],
      "metadata": {
        "id": "rSz9sbKD-RZl"
      },
      "execution_count": null,
      "outputs": []
    },
    {
      "cell_type": "code",
      "source": [
        "df = df.withColumn(\"churned\", flag_churn_2(\"userId\"))"
      ],
      "metadata": {
        "id": "VeYxwTaZ-U4a"
      },
      "execution_count": null,
      "outputs": []
    },
    {
      "cell_type": "code",
      "source": [
        "df.where(df.churned == 1).count()"
      ],
      "metadata": {
        "colab": {
          "base_uri": "https://localhost:8080/"
        },
        "id": "vI7-y1PE-XXm",
        "outputId": "face429a-5aaa-4352-bd73-21eb609a2602"
      },
      "execution_count": null,
      "outputs": [
        {
          "output_type": "execute_result",
          "data": {
            "text/plain": [
              "621"
            ]
          },
          "metadata": {},
          "execution_count": 81
        }
      ]
    },
    {
      "cell_type": "code",
      "source": [
        "df.groupby(['churned','page']).agg({'page':'count'}).orderBy('page').show()"
      ],
      "metadata": {
        "colab": {
          "base_uri": "https://localhost:8080/"
        },
        "id": "NRtF-BXk-eTp",
        "outputId": "40c232e7-e05f-40e4-8f19-eb246131c6e6"
      },
      "execution_count": null,
      "outputs": [
        {
          "output_type": "stream",
          "name": "stdout",
          "text": [
            "+-------+--------------------+-----------+\n",
            "|churned|                page|count(page)|\n",
            "+-------+--------------------+-----------+\n",
            "|      1|               About|          1|\n",
            "|      0|               About|         51|\n",
            "|      0|          Add Friend|        497|\n",
            "|      1|          Add Friend|         10|\n",
            "|      1|     Add to Playlist|         21|\n",
            "|      0|     Add to Playlist|        783|\n",
            "|      1|              Cancel|          2|\n",
            "|      1|Cancellation Conf...|          2|\n",
            "|      1|           Downgrade|          5|\n",
            "|      0|           Downgrade|        218|\n",
            "|      0|               Error|         39|\n",
            "|      0|                Help|        183|\n",
            "|      1|                Help|          1|\n",
            "|      0|                Home|       1334|\n",
            "|      1|                Home|         22|\n",
            "|      1|              Logout|          8|\n",
            "|      0|              Logout|        415|\n",
            "|      1|            NextSong|        509|\n",
            "|      0|            NextSong|      27602|\n",
            "|      0|         Roll Advert|        731|\n",
            "+-------+--------------------+-----------+\n",
            "only showing top 20 rows\n",
            "\n"
          ]
        }
      ]
    },
    {
      "cell_type": "code",
      "source": [
        "page_grouped = df.groupby(['churned','page']).agg({'page':'count'}).orderBy('page').toPandas()"
      ],
      "metadata": {
        "id": "ZGCJwrS6-otQ"
      },
      "execution_count": null,
      "outputs": []
    },
    {
      "cell_type": "markdown",
      "source": [
        "removing 'cancel' and 'cancel confirmation' as it is not in the churned 0 df"
      ],
      "metadata": {
        "id": "-CRf_kMe-1U9"
      }
    },
    {
      "cell_type": "markdown",
      "source": [
        "Let's visualize a bar graph for better understanding"
      ],
      "metadata": {
        "id": "QzoR7ZIj_Oe4"
      }
    },
    {
      "cell_type": "code",
      "source": [
        "\n",
        "page_grouped = page_grouped[(page_grouped.page != 'Cancel')]\n",
        "page_grouped = page_grouped[(page_grouped.page != 'Cancellation Confirmation')]"
      ],
      "metadata": {
        "id": "0GR_7J2--0A0"
      },
      "execution_count": null,
      "outputs": []
    },
    {
      "cell_type": "code",
      "source": [
        "page_grouped[page_grouped.churned == 1].set_index('page').drop('churned', axis=1).plot(kind='bar',\n",
        "                                                                                       figsize=(10,5),\n",
        "                                                                                      title='Page Churn 1',\n",
        "                                                                                      ylim=(0,2500));"
      ],
      "metadata": {
        "colab": {
          "base_uri": "https://localhost:8080/",
          "height": 421
        },
        "id": "xIAj3vm5_F0e",
        "outputId": "13b9b7f0-d76b-4a9a-84ef-fb522af0448f"
      },
      "execution_count": null,
      "outputs": [
        {
          "output_type": "display_data",
          "data": {
            "image/png": "[encoded data removed]",
            "text/plain": [
              "<Figure size 720x360 with 1 Axes>"
            ]
          },
          "metadata": {
            "needs_background": "light"
          }
        }
      ]
    },
    {
      "cell_type": "code",
      "source": [
        "page_grouped[page_grouped.churned == 0].set_index('page').drop('churned', axis=1).plot(kind='bar',\n",
        "                                                                                       figsize=(10,5),\n",
        "                                                                                      title='Page Churn 0',\n",
        "                                                                                      ylim=(0,15000));"
      ],
      "metadata": {
        "colab": {
          "base_uri": "https://localhost:8080/",
          "height": 435
        },
        "id": "kMCUSSgp_Hdj",
        "outputId": "ed427fd6-935c-424b-c47b-b26be57aa145"
      },
      "execution_count": null,
      "outputs": [
        {
          "output_type": "display_data",
          "data": {
            "image/png": "[encoded data removed]",
            "text/plain": [
              "<Figure size 720x360 with 1 Axes>"
            ]
          },
          "metadata": {
            "needs_background": "light"
          }
        }
      ]
    },
    {
      "cell_type": "markdown",
      "source": [
        "From we can see with our findings, churn 0 has more counts because of the distribution. However, we can see that other statistics are basically the same in comparison with each other."
      ],
      "metadata": {
        "id": "QMNNxzUd_V87"
      }
    },
    {
      "cell_type": "code",
      "source": [
        "df.groupby(['userId','sessionId']).count().orderBy('count', ascending=False).show()"
      ],
      "metadata": {
        "colab": {
          "base_uri": "https://localhost:8080/"
        },
        "id": "9FvXs-ay_ZVM",
        "outputId": "377abec8-7d31-463c-9e57-9c7b87c404cb"
      },
      "execution_count": null,
      "outputs": [
        {
          "output_type": "stream",
          "name": "stdout",
          "text": [
            "+------+---------+-----+\n",
            "|userId|sessionId|count|\n",
            "+------+---------+-----+\n",
            "|   115|      316| 1080|\n",
            "|   101|      635|  847|\n",
            "|    61|      529|  637|\n",
            "|    51|      236|  599|\n",
            "|   141|      479|  538|\n",
            "|    29|      617|  510|\n",
            "|   124|      420|  456|\n",
            "|    51|      442|  434|\n",
            "|     2|        1|  428|\n",
            "|   101|      496|  423|\n",
            "|    15|      591|  413|\n",
            "|    39|      619|  402|\n",
            "|    17|      602|  377|\n",
            "|    54|      670|  362|\n",
            "|   142|      498|  361|\n",
            "|    58|      579|  331|\n",
            "|   142|      565|  328|\n",
            "|   140|      644|  323|\n",
            "|    95|      398|  321|\n",
            "|    49|      182|  320|\n",
            "+------+---------+-----+\n",
            "only showing top 20 rows\n",
            "\n"
          ]
        }
      ]
    },
    {
      "cell_type": "markdown",
      "source": [
        "we can see the amount of actions or pages that a user would have been on at one time. For example, we can see that user 115 is the highest, which would mean they were on the site for 1080 actions. This means that they could have been playing songs, or other actions."
      ],
      "metadata": {
        "id": "QeswpXXJ_x5j"
      }
    },
    {
      "cell_type": "code",
      "source": [
        "df.where(df.page == 'NextSong').groupby(['userId','churned']).count().orderBy('count', ascending=False).show()\n"
      ],
      "metadata": {
        "colab": {
          "base_uri": "https://localhost:8080/"
        },
        "id": "OH7YMDTY_88v",
        "outputId": "3a5b78c7-57fd-42c8-ea38-a6f268587d93"
      },
      "execution_count": null,
      "outputs": [
        {
          "output_type": "stream",
          "name": "stdout",
          "text": [
            "+------+-------+-----+\n",
            "|userId|churned|count|\n",
            "+------+-------+-----+\n",
            "|   101|      0| 1501|\n",
            "|    51|      0| 1378|\n",
            "|    95|      0|  965|\n",
            "|   115|      0|  925|\n",
            "|    54|      0|  924|\n",
            "|   124|      0|  921|\n",
            "|   140|      0|  867|\n",
            "|   142|      0|  863|\n",
            "|    39|      0|  845|\n",
            "|    15|      0|  843|\n",
            "|    29|      0|  798|\n",
            "|    61|      0|  765|\n",
            "|    58|      0|  686|\n",
            "|    92|      0|  625|\n",
            "|   141|      0|  574|\n",
            "|   100|      0|  514|\n",
            "|   105|      0|  487|\n",
            "|    42|      0|  485|\n",
            "|    12|      0|  462|\n",
            "|    70|      0|  455|\n",
            "+------+-------+-----+\n",
            "only showing top 20 rows\n",
            "\n"
          ]
        }
      ]
    },
    {
      "cell_type": "code",
      "source": [
        "df.where(df.page == 'NextSong').groupby(['userId','churned']).count().orderBy('count', ascending=True).show()"
      ],
      "metadata": {
        "colab": {
          "base_uri": "https://localhost:8080/"
        },
        "id": "CAIBrL8IAFPw",
        "outputId": "99c0a552-2376-48c0-ed46-0c364513da6a"
      },
      "execution_count": null,
      "outputs": [
        {
          "output_type": "stream",
          "name": "stdout",
          "text": [
            "+------+-------+-----+\n",
            "|userId|churned|count|\n",
            "+------+-------+-----+\n",
            "|    62|      0|    1|\n",
            "|   122|      0|    5|\n",
            "|    60|      0|    6|\n",
            "|    68|      0|    6|\n",
            "|   135|      0|    6|\n",
            "|   128|      0|    7|\n",
            "|   119|      0|    8|\n",
            "|   147|      0|   11|\n",
            "|   134|      0|   12|\n",
            "|    89|      0|   12|\n",
            "|    55|      0|   12|\n",
            "|   138|      0|   14|\n",
            "|     5|      0|   16|\n",
            "|     7|      0|   16|\n",
            "|    50|      0|   18|\n",
            "|    34|      0|   20|\n",
            "|   114|      0|   20|\n",
            "|    94|      0|   21|\n",
            "|    37|      0|   21|\n",
            "|    41|      0|   22|\n",
            "+------+-------+-----+\n",
            "only showing top 20 rows\n",
            "\n"
          ]
        }
      ]
    },
    {
      "cell_type": "markdown",
      "source": [
        "we look at the reverse, there are more who have churned. This just gives some evidence that persons who have churned play less songs than those who have not. This is not conclusive, but shows that it may be helpful in being a feature.\n",
        "\n",
        "\n",
        "Above the users with the most songs played and showing whether they have churned or not. We can see for the top users the majority have not churned."
      ],
      "metadata": {
        "id": "Xv2hPV8PAVVb"
      }
    },
    {
      "cell_type": "markdown",
      "source": [
        "# Feature Engineering"
      ],
      "metadata": {
        "id": "d6DccFK2BENk"
      }
    },
    {
      "cell_type": "markdown",
      "source": [
        "Now that we are familiarized with the data, we build out the features we find promising to train our model on. To work with the full dataset, we follow the following steps.\n",
        "\n",
        "\n",
        "\n",
        "\n",
        "\n",
        "\n",
        "1.Write a script to extract the necessary features from the smaller subset of data\n",
        "\n",
        "2.Ensure that our script is scalable.\n",
        "\n",
        "3.Try our script on the full data set, debugging our script if necessary\n",
        "\n",
        "\n",
        "\n",
        "\n",
        "\n",
        "\n",
        "\n",
        "\n",
        "\n",
        "\n",
        "\n",
        "\n",
        "\n"
      ],
      "metadata": {
        "id": "DwzChhB6BKZQ"
      }
    },
    {
      "cell_type": "markdown",
      "source": [
        "**Columns to be used:**\n",
        "\n",
        "Gender: string (M/F)\n",
        "\n",
        "Length\n",
        "\n",
        "Level (Paid/Free)\n",
        "\n",
        "Page: Has to be explored more because there are a number of categories in here to use.\n",
        "\n",
        "NextSong: create a udf so that it can show the amount of nextSongs played."
      ],
      "metadata": {
        "id": "w30rRCcMCN8I"
      }
    },
    {
      "cell_type": "code",
      "source": [
        "male_female = udf(lambda x: 1 if x == \"M\" else 0, IntegerType())\n",
        "paid_free = udf(lambda x: 1 if x == \"Paid\" else 0, IntegerType())\n",
        "next_song = udf(lambda x: 1 if x == \"NextSong\" else 0, IntegerType())"
      ],
      "metadata": {
        "id": "nEQVHL0vAeXR"
      },
      "execution_count": null,
      "outputs": []
    },
    {
      "cell_type": "code",
      "source": [
        "# df = df.withColumn('male_female', male_female('gender'))\n",
        "# df = df.withColumn('paid_free', paid_free('level'))\n",
        "df = df.withColumn('next_song', next_song('page'))"
      ],
      "metadata": {
        "id": "Hjt1xr9nBu_P"
      },
      "execution_count": null,
      "outputs": []
    },
    {
      "cell_type": "code",
      "source": [
        "# lets use string index for the gender\n",
        "from pyspark.ml.feature import StringIndexer\n",
        "indexer = StringIndexer(inputCol='gender', outputCol='genderCatIndex')\n",
        "df = indexer.fit(df).transform(df)\n",
        "df.groupby('genderCatindex').count().show()"
      ],
      "metadata": {
        "colab": {
          "base_uri": "https://localhost:8080/"
        },
        "id": "0-RzWBZ1B0v4",
        "outputId": "b8b1112d-2862-42c8-82f2-fdb7224d9898"
      },
      "execution_count": null,
      "outputs": [
        {
          "output_type": "stream",
          "name": "stdout",
          "text": [
            "+--------------+-----+\n",
            "|genderCatindex|count|\n",
            "+--------------+-----+\n",
            "|           0.0|17310|\n",
            "|           1.0|17187|\n",
            "+--------------+-----+\n",
            "\n"
          ]
        }
      ]
    },
    {
      "cell_type": "code",
      "source": [
        "# use StringIndexer on page column\n",
        "level_indexer = StringIndexer(inputCol='page', outputCol='pageCatIndex')\n",
        "df = level_indexer.fit(df).transform(df)\n",
        "df.groupby('pageCatIndex').count().show()"
      ],
      "metadata": {
        "colab": {
          "base_uri": "https://localhost:8080/"
        },
        "id": "MR9mgFzwB26P",
        "outputId": "47e57818-b0b0-44f1-a01d-13c5cefa2fb4"
      },
      "execution_count": null,
      "outputs": [
        {
          "output_type": "stream",
          "name": "stdout",
          "text": [
            "+------------+-----+\n",
            "|pageCatIndex|count|\n",
            "+------------+-----+\n",
            "|         8.0|  223|\n",
            "|         0.0|28111|\n",
            "|         7.0|  269|\n",
            "|        18.0|    2|\n",
            "|         1.0| 1384|\n",
            "|         4.0|  734|\n",
            "|        11.0|  113|\n",
            "|        14.0|   39|\n",
            "|         3.0|  804|\n",
            "|         2.0| 1356|\n",
            "|        17.0|    2|\n",
            "|        10.0|  184|\n",
            "|        13.0|   46|\n",
            "|         6.0|  423|\n",
            "|         5.0|  507|\n",
            "|        15.0|   34|\n",
            "|         9.0|  206|\n",
            "|        16.0|    8|\n",
            "|        12.0|   52|\n",
            "+------------+-----+\n",
            "\n"
          ]
        }
      ]
    },
    {
      "cell_type": "code",
      "source": [
        "# lets use string index for the gender\n",
        "from pyspark.ml.feature import StringIndexer\n",
        "indexer = StringIndexer(inputCol='level', outputCol='levelCatIndex')\n",
        "df = indexer.fit(df).transform(df)\n",
        "df.groupby('levelCatindex').count().show()"
      ],
      "metadata": {
        "colab": {
          "base_uri": "https://localhost:8080/"
        },
        "id": "RfBnjmTAB5e9",
        "outputId": "989c59b9-534a-4ae1-a254-c8370a83058a"
      },
      "execution_count": null,
      "outputs": [
        {
          "output_type": "stream",
          "name": "stdout",
          "text": [
            "+-------------+-----+\n",
            "|levelCatindex|count|\n",
            "+-------------+-----+\n",
            "|          0.0|22480|\n",
            "|          1.0|12017|\n",
            "+-------------+-----+\n",
            "\n"
          ]
        }
      ]
    },
    {
      "cell_type": "markdown",
      "source": [
        "Downsampling the dataset to balance churn."
      ],
      "metadata": {
        "id": "7-ryoNd7Chlk"
      }
    },
    {
      "cell_type": "code",
      "source": [
        "df.groupby('churned').count().show()"
      ],
      "metadata": {
        "colab": {
          "base_uri": "https://localhost:8080/"
        },
        "id": "z_50EoicCiOu",
        "outputId": "0ecb5b36-4206-4eba-a602-c5a2b65e1d85"
      },
      "execution_count": null,
      "outputs": [
        {
          "output_type": "stream",
          "name": "stdout",
          "text": [
            "+-------+-----+\n",
            "|churned|count|\n",
            "+-------+-----+\n",
            "|      1|  621|\n",
            "|      0|33876|\n",
            "+-------+-----+\n",
            "\n"
          ]
        }
      ]
    },
    {
      "cell_type": "markdown",
      "source": [
        "Here is the imbalance of churn. 621:33876."
      ],
      "metadata": {
        "id": "JEoNq3S9Dext"
      }
    },
    {
      "cell_type": "code",
      "source": [
        "churn = df.groupby(['churned']).agg({'churned':'count'}).toPandas()"
      ],
      "metadata": {
        "id": "ie1oPnICDmUK"
      },
      "execution_count": null,
      "outputs": []
    },
    {
      "cell_type": "code",
      "source": [
        "churn"
      ],
      "metadata": {
        "colab": {
          "base_uri": "https://localhost:8080/",
          "height": 112
        },
        "id": "fJubzDsfDjXP",
        "outputId": "a1c1f0e8-fe6a-4efe-8350-505a11948caf"
      },
      "execution_count": null,
      "outputs": [
        {
          "output_type": "execute_result",
          "data": {
            "text/html": [
              "\n",
              "  <div id=\"df-073734ab-569f-4907-b78b-5dfe76e800ba\">\n",
              "    <div class=\"colab-df-container\">\n",
              "      <div>\n",
              "<style scoped>\n",
              "    .dataframe tbody tr th:only-of-type {\n",
              "        vertical-align: middle;\n",
              "    }\n",
              "\n",
              "    .dataframe tbody tr th {\n",
              "        vertical-align: top;\n",
              "    }\n",
              "\n",
              "    .dataframe thead th {\n",
              "        text-align: right;\n",
              "    }\n",
              "</style>\n",
              "<table border=\"1\" class=\"dataframe\">\n",
              "  <thead>\n",
              "    <tr style=\"text-align: right;\">\n",
              "      <th></th>\n",
              "      <th>churned</th>\n",
              "      <th>count(churned)</th>\n",
              "    </tr>\n",
              "  </thead>\n",
              "  <tbody>\n",
              "    <tr>\n",
              "      <th>0</th>\n",
              "      <td>1</td>\n",
              "      <td>621</td>\n",
              "    </tr>\n",
              "    <tr>\n",
              "      <th>1</th>\n",
              "      <td>0</td>\n",
              "      <td>33876</td>\n",
              "    </tr>\n",
              "  </tbody>\n",
              "</table>\n",
              "</div>\n",
              "      <button class=\"colab-df-convert\" onclick=\"convertToInteractive('df-073734ab-569f-4907-b78b-5dfe76e800ba')\"\n",
              "              title=\"Convert this dataframe to an interactive table.\"\n",
              "              style=\"display:none;\">\n",
              "        \n",
              "  <svg xmlns=\"http://www.w3.org/2000/svg\" height=\"24px\"viewBox=\"0 0 24 24\"\n",
              "       width=\"24px\">\n",
              "    <path d=\"M0 0h24v24H0V0z\" fill=\"none\"/>\n",
              "    <path d=\"M18.56 5.44l.94 2.06.94-2.06 2.06-.94-2.06-.94-.94-2.06-.94 2.06-2.06.94zm-11 1L8.5 8.5l.94-2.06 2.06-.94-2.06-.94L8.5 2.5l-.94 2.06-2.06.94zm10 10l.94 2.06.94-2.06 2.06-.94-2.06-.94-.94-2.06-.94 2.06-2.06.94z\"/><path d=\"M17.41 7.96l-1.37-1.37c-.4-.4-.92-.59-1.43-.59-.52 0-1.04.2-1.43.59L10.3 9.45l-7.72 7.72c-.78.78-.78 2.05 0 2.83L4 21.41c.39.39.9.59 1.41.59.51 0 1.02-.2 1.41-.59l7.78-7.78 2.81-2.81c.8-.78.8-2.07 0-2.86zM5.41 20L4 18.59l7.72-7.72 1.47 1.35L5.41 20z\"/>\n",
              "  </svg>\n",
              "      </button>\n",
              "      \n",
              "  <style>\n",
              "    .colab-df-container {\n",
              "      display:flex;\n",
              "      flex-wrap:wrap;\n",
              "      gap: 12px;\n",
              "    }\n",
              "\n",
              "    .colab-df-convert {\n",
              "      background-color: #E8F0FE;\n",
              "      border: none;\n",
              "      border-radius: 50%;\n",
              "      cursor: pointer;\n",
              "      display: none;\n",
              "      fill: #1967D2;\n",
              "      height: 32px;\n",
              "      padding: 0 0 0 0;\n",
              "      width: 32px;\n",
              "    }\n",
              "\n",
              "    .colab-df-convert:hover {\n",
              "      background-color: #E2EBFA;\n",
              "      box-shadow: 0px 1px 2px rgba(60, 64, 67, 0.3), 0px 1px 3px 1px rgba(60, 64, 67, 0.15);\n",
              "      fill: #174EA6;\n",
              "    }\n",
              "\n",
              "    [theme=dark] .colab-df-convert {\n",
              "      background-color: #3B4455;\n",
              "      fill: #D2E3FC;\n",
              "    }\n",
              "\n",
              "    [theme=dark] .colab-df-convert:hover {\n",
              "      background-color: #434B5C;\n",
              "      box-shadow: 0px 1px 3px 1px rgba(0, 0, 0, 0.15);\n",
              "      filter: drop-shadow(0px 1px 2px rgba(0, 0, 0, 0.3));\n",
              "      fill: #FFFFFF;\n",
              "    }\n",
              "  </style>\n",
              "\n",
              "      <script>\n",
              "        const buttonEl =\n",
              "          document.querySelector('#df-073734ab-569f-4907-b78b-5dfe76e800ba button.colab-df-convert');\n",
              "        buttonEl.style.display =\n",
              "          google.colab.kernel.accessAllowed ? 'block' : 'none';\n",
              "\n",
              "        async function convertToInteractive(key) {\n",
              "          const element = document.querySelector('#df-073734ab-569f-4907-b78b-5dfe76e800ba');\n",
              "          const dataTable =\n",
              "            await google.colab.kernel.invokeFunction('convertToInteractive',\n",
              "                                                     [key], {});\n",
              "          if (!dataTable) return;\n",
              "\n",
              "          const docLinkHtml = 'Like what you see? Visit the ' +\n",
              "            '<a target=\"_blank\" href=https://colab.research.google.com/notebooks/data_table.ipynb>data table notebook</a>'\n",
              "            + ' to learn more about interactive tables.';\n",
              "          element.innerHTML = '';\n",
              "          dataTable['output_type'] = 'display_data';\n",
              "          await google.colab.output.renderOutput(dataTable, element);\n",
              "          const docLink = document.createElement('div');\n",
              "          docLink.innerHTML = docLinkHtml;\n",
              "          element.appendChild(docLink);\n",
              "        }\n",
              "      </script>\n",
              "    </div>\n",
              "  </div>\n",
              "  "
            ],
            "text/plain": [
              "   churned  count(churned)\n",
              "0        1             621\n",
              "1        0           33876"
            ]
          },
          "metadata": {},
          "execution_count": 97
        }
      ]
    },
    {
      "cell_type": "code",
      "source": [
        "ax = churn.set_index('churned').plot(kind='bar', title='Churn Count', legend=False);\n",
        "ax.set_xlabel(\"Churn Categories\");\n",
        "ax.set_ylabel(\"Count\");"
      ],
      "metadata": {
        "colab": {
          "base_uri": "https://localhost:8080/",
          "height": 292
        },
        "id": "jD11gIFqDulH",
        "outputId": "0c8b2b9c-7a96-4595-e980-47fd83f36c1d"
      },
      "execution_count": null,
      "outputs": [
        {
          "output_type": "display_data",
          "data": {
            "image/png": "[encoded data removed]",
            "text/plain": [
              "<Figure size 432x288 with 1 Axes>"
            ]
          },
          "metadata": {
            "needs_background": "light"
          }
        }
      ]
    },
    {
      "cell_type": "markdown",
      "source": [
        "The distribution for Churn is very unbalanced. This can really throw off the modeling so we will balance this."
      ],
      "metadata": {
        "id": "Ad8U7Yg-DyF1"
      }
    },
    {
      "cell_type": "code",
      "source": [
        "df.sampleBy('churned', fractions={0:621/33876, 1:1.0}).groupby('churned').count().show()"
      ],
      "metadata": {
        "colab": {
          "base_uri": "https://localhost:8080/"
        },
        "id": "6QzbntJCD4Du",
        "outputId": "6e76526b-423d-46d5-841d-2f632b0b78d1"
      },
      "execution_count": null,
      "outputs": [
        {
          "output_type": "stream",
          "name": "stdout",
          "text": [
            "+-------+-----+\n",
            "|churned|count|\n",
            "+-------+-----+\n",
            "|      1|  621|\n",
            "|      0|  629|\n",
            "+-------+-----+\n",
            "\n"
          ]
        }
      ]
    },
    {
      "cell_type": "code",
      "source": [
        "df_balance = df.sampleBy('churned', fractions={0:621/33876, 1:1.0})"
      ],
      "metadata": {
        "id": "-sYZ9K2MEEG8"
      },
      "execution_count": null,
      "outputs": []
    },
    {
      "cell_type": "code",
      "source": [
        "churn_balanced = df_balance.groupby(['churned']).agg({'churned':'count'}).toPandas()\n",
        "ax = churn_balanced.set_index('churned').plot(kind='bar', title='Churn Count', legend=False);\n",
        "ax.set_xlabel(\"Churn Categories\");\n",
        "ax.set_ylabel(\"Count\");"
      ],
      "metadata": {
        "colab": {
          "base_uri": "https://localhost:8080/",
          "height": 292
        },
        "id": "7fqM8dgKEJS_",
        "outputId": "ad61fa4b-b660-4fd9-adfa-615b16935b37"
      },
      "execution_count": null,
      "outputs": [
        {
          "output_type": "display_data",
          "data": {
            "image/png": "[encoded data removed]",
            "text/plain": [
              "<Figure size 432x288 with 1 Axes>"
            ]
          },
          "metadata": {
            "needs_background": "light"
          }
        }
      ]
    },
    {
      "cell_type": "markdown",
      "source": [
        "We downsampled the dataset so that the churn category can be more balanced."
      ],
      "metadata": {
        "id": "QgmJq9BhEUF7"
      }
    },
    {
      "cell_type": "markdown",
      "source": [
        "There might be correlation between users who churn and the amount of time they are playing songs"
      ],
      "metadata": {
        "id": "C-TQFzkYEkn2"
      }
    },
    {
      "cell_type": "code",
      "source": [
        "\n",
        "df_balance.groupby(['userId', 'churned', 'level']).sum('length').orderBy('sum(length)', ascending=True).show()"
      ],
      "metadata": {
        "colab": {
          "base_uri": "https://localhost:8080/"
        },
        "id": "3FUtIsigEiYf",
        "outputId": "8a7fedc9-94c1-46ad-c2eb-72b20c06cf18"
      },
      "execution_count": null,
      "outputs": [
        {
          "output_type": "stream",
          "name": "stdout",
          "text": [
            "+------+-------+-----+-----------+\n",
            "|userId|churned|level|sum(length)|\n",
            "+------+-------+-----+-----------+\n",
            "|   113|      0| free|        0.0|\n",
            "|    58|      0| free|        0.0|\n",
            "|    13|      0| free|        0.0|\n",
            "|    14|      0| paid|        0.0|\n",
            "|    65|      0| free|        0.0|\n",
            "|    50|      0| free|        0.0|\n",
            "|   132|      0| free|        0.0|\n",
            "|   106|      0| free|        0.0|\n",
            "|    60|      0| free|        0.0|\n",
            "|   129|      0| free|        0.0|\n",
            "|   126|      0| free|        0.0|\n",
            "|   112|      0| free|        0.0|\n",
            "|    17|      0| free|        0.0|\n",
            "|   127|      0| paid|   50.85995|\n",
            "|    30|      0| free|  106.05669|\n",
            "|    97|      0| free|  122.04363|\n",
            "|   131|      0| free|  156.65587|\n",
            "|    45|      0| free|  157.28281|\n",
            "|   148|      0| free|  158.45832|\n",
            "|    42|      0| free|  163.47383|\n",
            "+------+-------+-----+-----------+\n",
            "only showing top 20 rows\n",
            "\n"
          ]
        }
      ]
    },
    {
      "cell_type": "markdown",
      "source": [
        "As seen above, there is about 5 times more persons who did not churned compared to those who have churned. This creates a problem with the models and accuracy. As we have seen, there were no churn predictions because of this. To remedy this we had to downsample. We used the sampleBy method and now there is more of a 1:1 ratio although we lost many records."
      ],
      "metadata": {
        "id": "LR1kevuFExf0"
      }
    },
    {
      "cell_type": "markdown",
      "source": [
        "# Building our model"
      ],
      "metadata": {
        "id": "zxqCG10KCDMv"
      }
    },
    {
      "cell_type": "code",
      "source": [
        "df_balance_training = df_balance_output.select(col('churned').alias('label'), col('features'))"
      ],
      "metadata": {
        "id": "qFxjJXRNE_mb"
      },
      "execution_count": null,
      "outputs": []
    },
    {
      "cell_type": "code",
      "source": [
        "assembler = VectorAssembler(inputCols=['genderCatIndex', 'pageCatIndex', 'levelCatIndex'], outputCol=\"features\")\n",
        "df_balance_output = assembler.transform(df_balance)"
      ],
      "metadata": {
        "id": "W4iS4YurE5Ge"
      },
      "execution_count": null,
      "outputs": []
    },
    {
      "cell_type": "markdown",
      "source": [
        "Below two functions will be created. a training model and score function which will show the scores in for the given model."
      ],
      "metadata": {
        "id": "TILeHblDFFMx"
      }
    },
    {
      "cell_type": "code",
      "source": [
        "def train_model(df, model='lr'):\n",
        "    \"\"\"\n",
        "    Train a model and return predictions on test dataset\n",
        "    Args: \n",
        "        df: Dataframe\n",
        "        model: default is Logistic Regressions\n",
        "            options: 'rf': Random Forest Classifier\n",
        "                     'dt': Decision Tree Classifier\n",
        "        return: predictions dataframe containing `label`\n",
        "    \"\"\"\n",
        "    results = None\n",
        "    \n",
        "    assembler = VectorAssembler(inputCols=['genderCatIndex', 'pageCatIndex', 'levelCatIndex'], outputCol=\"features\")\n",
        "    df = assembler.transform(df)\n",
        "    \n",
        "    # rename column to label\n",
        "    df = df.withColumnRenamed('churned', 'label')\n",
        "    \n",
        "    train, test = df.randomSplit([0.8, 0.2])\n",
        "    \n",
        "    if model == 'lr':\n",
        "        model = LogisticRegression(maxIter=80, regParam=0.3, elasticNetParam=0.0)\n",
        "    if model == 'rf':\n",
        "        model = RandomForestClassifier()\n",
        "    if model == 'dt':\n",
        "        model = DecisionTreeClassifier(maxDepth=3)\n",
        "    \n",
        "    model = model.fit(train)\n",
        "    \n",
        "    # return predictions\n",
        "    results = model.transform(test)\n",
        "    \n",
        "    return results\n",
        "    "
      ],
      "metadata": {
        "id": "NXWAMiFwCCwG"
      },
      "execution_count": null,
      "outputs": []
    },
    {
      "cell_type": "code",
      "source": [
        "def scores(df):\n",
        "    df = df.toPandas()\n",
        "    \n",
        "    print(\"Accuracy Score: \", accuracy_score(df.label, df.prediction))\n",
        "    print(\"F1 Score: \", f1_score(df.label, df.prediction))"
      ],
      "metadata": {
        "id": "eNkGh1PyFLGp"
      },
      "execution_count": null,
      "outputs": []
    },
    {
      "cell_type": "markdown",
      "source": [
        "# Logistic Regression"
      ],
      "metadata": {
        "id": "7mcg_OXyFUnq"
      }
    },
    {
      "cell_type": "code",
      "source": [
        "predictions = train_model(df_balance)"
      ],
      "metadata": {
        "id": "hg_YtZgSFXph"
      },
      "execution_count": null,
      "outputs": []
    },
    {
      "cell_type": "code",
      "source": [
        "scores(predictions)"
      ],
      "metadata": {
        "colab": {
          "base_uri": "https://localhost:8080/"
        },
        "id": "xM3Zz-zfFdy9",
        "outputId": "9a3190dd-16e3-4bf3-c30e-686dde9b41f5"
      },
      "execution_count": null,
      "outputs": [
        {
          "output_type": "stream",
          "name": "stdout",
          "text": [
            "Accuracy Score:  0.7867647058823529\n",
            "F1 Score:  0.8066666666666668\n"
          ]
        }
      ]
    },
    {
      "cell_type": "markdown",
      "source": [
        "# Random Forest Classifier"
      ],
      "metadata": {
        "id": "jEbKZ5aqFh8j"
      }
    },
    {
      "cell_type": "code",
      "source": [
        "predictions_rf = train_model(df_balance, model='rf')"
      ],
      "metadata": {
        "id": "PZwIIzMNFfSJ"
      },
      "execution_count": null,
      "outputs": []
    },
    {
      "cell_type": "code",
      "source": [
        "scores(predictions_rf)"
      ],
      "metadata": {
        "colab": {
          "base_uri": "https://localhost:8080/"
        },
        "id": "YKp3-pisFlaJ",
        "outputId": "55bf9345-0626-4a98-846b-30a26de4d8f9"
      },
      "execution_count": null,
      "outputs": [
        {
          "output_type": "stream",
          "name": "stdout",
          "text": [
            "Accuracy Score:  0.8007968127490039\n",
            "F1 Score:  0.8201438848920863\n"
          ]
        }
      ]
    },
    {
      "cell_type": "markdown",
      "source": [
        "# Decision Tree Classifier"
      ],
      "metadata": {
        "id": "ceOna8gZFpGa"
      }
    },
    {
      "cell_type": "code",
      "source": [
        "predictions_dt = train_model(df_balance, model='dt')\n",
        "scores(predictions_dt)"
      ],
      "metadata": {
        "colab": {
          "base_uri": "https://localhost:8080/"
        },
        "id": "gggMZ1QWFtGi",
        "outputId": "6846df8a-8090-467b-b7dc-9c9d5aaf0923"
      },
      "execution_count": null,
      "outputs": [
        {
          "output_type": "stream",
          "name": "stdout",
          "text": [
            "Accuracy Score:  0.7754237288135594\n",
            "F1 Score:  0.792156862745098\n"
          ]
        }
      ]
    },
    {
      "cell_type": "markdown",
      "source": [
        "Let's check our model scores"
      ],
      "metadata": {
        "id": "zVqVtv37F284"
      }
    },
    {
      "cell_type": "code",
      "source": [
        "print(\"******Model Scores******\")\n",
        "print(\"Logistic Regression\")\n",
        "print(scores(predictions))\n",
        "print(\"Random Forest Classifier\")\n",
        "print(scores(predictions_rf))\n",
        "print(\"Decision Tree Classifier\")\n",
        "print(scores(predictions_dt))"
      ],
      "metadata": {
        "colab": {
          "base_uri": "https://localhost:8080/"
        },
        "id": "YH6wLGRWFvNX",
        "outputId": "14de0e88-a18e-43e2-bcc5-5bf41b052d87"
      },
      "execution_count": null,
      "outputs": [
        {
          "output_type": "stream",
          "name": "stdout",
          "text": [
            "******Model Scores******\n",
            "Logistic Regression\n",
            "Accuracy Score:  0.7877551020408163\n",
            "F1 Score:  0.7936507936507937\n",
            "None\n",
            "Random Forest Classifier\n",
            "Accuracy Score:  0.8007968127490039\n",
            "F1 Score:  0.8201438848920863\n",
            "None\n",
            "Decision Tree Classifier\n",
            "Accuracy Score:  0.7754237288135594\n",
            "F1 Score:  0.792156862745098\n",
            "None\n"
          ]
        }
      ]
    },
    {
      "cell_type": "markdown",
      "source": [
        "# Let's try to improve our model"
      ],
      "metadata": {
        "id": "R-valg2VGQK9"
      }
    },
    {
      "cell_type": "code",
      "source": [
        "from pyspark.ml import Pipeline\n",
        "from pyspark.ml.evaluation import MulticlassClassificationEvaluator\n",
        "training, testing = df_balance.randomSplit([0.8, 0.2])"
      ],
      "metadata": {
        "id": "BSilzEkBGVZh"
      },
      "execution_count": null,
      "outputs": []
    },
    {
      "cell_type": "code",
      "source": [
        "training = training.withColumnRenamed('churned', 'label')\n",
        "testing = testing.withColumnRenamed('churned', 'label')"
      ],
      "metadata": {
        "id": "DB1SIXF-GcjB"
      },
      "execution_count": null,
      "outputs": []
    },
    {
      "cell_type": "code",
      "source": [
        "indexer = StringIndexer(inputCol='gender', outputCol='genderCatIndex')\n",
        "level_indexer = StringIndexer(inputCol='page', outputCol='pageCatIndex')\n",
        "si = StringIndexer(inputCol='level', outputCol='levelCatIndex')\n",
        "assembler = VectorAssembler(inputCols=['genderCatIndex', 'pageCatIndex', 'levelCatIndex'], outputCol=\"features\")\n",
        "logistic_r = LogisticRegression(maxIter=10, regParam=0.0, elasticNetParam=0, labelCol='label')\n",
        "\n",
        "pipeline = Pipeline(stages=[assembler, logistic_r])"
      ],
      "metadata": {
        "id": "VRBMTxZ2Ggd8"
      },
      "execution_count": null,
      "outputs": []
    },
    {
      "cell_type": "code",
      "source": [
        "paramGrid = ParamGridBuilder()\\\n",
        "    .addGrid(logistic_r.regParam, [0.1, 0.01, 0.5, 0.9])\\\n",
        "    .addGrid(logistic_r.fitIntercept, [True, False])\\\n",
        "    .addGrid(logistic_r.maxIter, [1,10,100])\\\n",
        "    .addGrid(logistic_r.threshold, [0.5, 0.1, 0.8])\\\n",
        "    .build()\n",
        "\n",
        "\n",
        "crossval = CrossValidator(estimator=pipeline,\n",
        "                         estimatorParamMaps=paramGrid,\n",
        "                         evaluator=MulticlassClassificationEvaluator(),\n",
        "                          numFolds=3)\n",
        "\n",
        "model = crossval.fit(training)\n",
        "\n",
        "preds = model.transform(testing)"
      ],
      "metadata": {
        "id": "CTFTXBfZGjkR"
      },
      "execution_count": null,
      "outputs": []
    },
    {
      "cell_type": "code",
      "source": [
        "preds.filter(preds.label == preds.prediction).count() / preds.count()"
      ],
      "metadata": {
        "colab": {
          "base_uri": "https://localhost:8080/"
        },
        "id": "R0ZRg7wBGpvo",
        "outputId": "ad4252d0-7207-42da-af7b-59184bc4db0e"
      },
      "execution_count": null,
      "outputs": [
        {
          "output_type": "execute_result",
          "data": {
            "text/plain": [
              "0.7466666666666667"
            ]
          },
          "metadata": {},
          "execution_count": 119
        }
      ]
    },
    {
      "cell_type": "code",
      "source": [
        "scores(preds)"
      ],
      "metadata": {
        "colab": {
          "base_uri": "https://localhost:8080/"
        },
        "id": "V0kYXMyXGqVC",
        "outputId": "184ba669-abb5-4452-ff92-fcf57d8b9a01"
      },
      "execution_count": null,
      "outputs": [
        {
          "output_type": "stream",
          "name": "stdout",
          "text": [
            "Accuracy Score:  0.7466666666666667\n",
            "F1 Score:  0.774703557312253\n"
          ]
        }
      ]
    },
    {
      "cell_type": "markdown",
      "source": [
        "The accuracy score of the using the Logistic Regression training model was 77%.\n",
        "\n",
        "Overall, this score was ok, but it could be improved. This could possibly be done by extracting more features."
      ],
      "metadata": {
        "id": "40JUOvMIIZcW"
      }
    }
  ]
}